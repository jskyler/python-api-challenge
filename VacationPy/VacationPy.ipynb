{
 "cells": [
  {
   "cell_type": "markdown",
   "metadata": {},
   "source": [
    "# VacationPy\n",
    "----\n",
    "\n",
    "#### Note\n",
    "* Keep an eye on your API usage. Use https://developers.google.com/maps/reporting/gmp-reporting as reference for how to monitor your usage and billing.\n",
    "\n",
    "* Instructions have been included for each segment. You do not have to follow them exactly, but they are included to help you think through the steps."
   ]
  },
  {
   "cell_type": "code",
   "execution_count": 1,
   "metadata": {},
   "outputs": [
    {
     "name": "stdout",
     "output_type": "stream",
     "text": [
      "Enabling notebook extension jupyter-js-widgets/extension...\n",
      "      - Validating: \u001b[32mOK\u001b[0m\n",
      "Collecting gmaps\n",
      "  Downloading gmaps-0.9.0.tar.gz (1.1 MB)\n",
      "\u001b[K     |████████████████████████████████| 1.1 MB 1.7 MB/s eta 0:00:01\n",
      "\u001b[?25hRequirement already satisfied: ipython>=5.3.0 in /Users/justine.skyler/opt/anaconda3/lib/python3.8/site-packages (from gmaps) (7.16.1)\n",
      "Requirement already satisfied: ipywidgets>=7.0.0 in /Users/justine.skyler/opt/anaconda3/lib/python3.8/site-packages (from gmaps) (7.5.1)\n",
      "Requirement already satisfied: traitlets>=4.3.0 in /Users/justine.skyler/opt/anaconda3/lib/python3.8/site-packages (from gmaps) (4.3.3)\n",
      "Collecting geojson>=2.0.0\n",
      "  Downloading geojson-2.5.0-py2.py3-none-any.whl (14 kB)\n",
      "Requirement already satisfied: six in /Users/justine.skyler/opt/anaconda3/lib/python3.8/site-packages (from gmaps) (1.15.0)\n",
      "Requirement already satisfied: pickleshare in /Users/justine.skyler/opt/anaconda3/lib/python3.8/site-packages (from ipython>=5.3.0->gmaps) (0.7.5)\n",
      "Requirement already satisfied: pygments in /Users/justine.skyler/opt/anaconda3/lib/python3.8/site-packages (from ipython>=5.3.0->gmaps) (2.6.1)\n",
      "Requirement already satisfied: backcall in /Users/justine.skyler/opt/anaconda3/lib/python3.8/site-packages (from ipython>=5.3.0->gmaps) (0.2.0)\n",
      "Requirement already satisfied: setuptools>=18.5 in /Users/justine.skyler/opt/anaconda3/lib/python3.8/site-packages (from ipython>=5.3.0->gmaps) (49.2.0.post20200714)\n",
      "Requirement already satisfied: prompt-toolkit!=3.0.0,!=3.0.1,<3.1.0,>=2.0.0 in /Users/justine.skyler/opt/anaconda3/lib/python3.8/site-packages (from ipython>=5.3.0->gmaps) (3.0.5)\n",
      "Requirement already satisfied: appnope; sys_platform == \"darwin\" in /Users/justine.skyler/opt/anaconda3/lib/python3.8/site-packages (from ipython>=5.3.0->gmaps) (0.1.0)\n",
      "Requirement already satisfied: jedi>=0.10 in /Users/justine.skyler/opt/anaconda3/lib/python3.8/site-packages (from ipython>=5.3.0->gmaps) (0.17.1)\n",
      "Requirement already satisfied: pexpect; sys_platform != \"win32\" in /Users/justine.skyler/opt/anaconda3/lib/python3.8/site-packages (from ipython>=5.3.0->gmaps) (4.8.0)\n",
      "Requirement already satisfied: decorator in /Users/justine.skyler/opt/anaconda3/lib/python3.8/site-packages (from ipython>=5.3.0->gmaps) (4.4.2)\n",
      "Requirement already satisfied: nbformat>=4.2.0 in /Users/justine.skyler/opt/anaconda3/lib/python3.8/site-packages (from ipywidgets>=7.0.0->gmaps) (5.0.7)\n",
      "Requirement already satisfied: ipykernel>=4.5.1 in /Users/justine.skyler/opt/anaconda3/lib/python3.8/site-packages (from ipywidgets>=7.0.0->gmaps) (5.3.2)\n",
      "Requirement already satisfied: widgetsnbextension~=3.5.0 in /Users/justine.skyler/opt/anaconda3/lib/python3.8/site-packages (from ipywidgets>=7.0.0->gmaps) (3.5.1)\n",
      "Requirement already satisfied: ipython-genutils in /Users/justine.skyler/opt/anaconda3/lib/python3.8/site-packages (from traitlets>=4.3.0->gmaps) (0.2.0)\n",
      "Requirement already satisfied: wcwidth in /Users/justine.skyler/opt/anaconda3/lib/python3.8/site-packages (from prompt-toolkit!=3.0.0,!=3.0.1,<3.1.0,>=2.0.0->ipython>=5.3.0->gmaps) (0.2.5)\n",
      "Requirement already satisfied: parso<0.8.0,>=0.7.0 in /Users/justine.skyler/opt/anaconda3/lib/python3.8/site-packages (from jedi>=0.10->ipython>=5.3.0->gmaps) (0.7.0)\n",
      "Requirement already satisfied: ptyprocess>=0.5 in /Users/justine.skyler/opt/anaconda3/lib/python3.8/site-packages (from pexpect; sys_platform != \"win32\"->ipython>=5.3.0->gmaps) (0.6.0)\n",
      "Requirement already satisfied: jsonschema!=2.5.0,>=2.4 in /Users/justine.skyler/opt/anaconda3/lib/python3.8/site-packages (from nbformat>=4.2.0->ipywidgets>=7.0.0->gmaps) (3.2.0)\n",
      "Requirement already satisfied: jupyter-core in /Users/justine.skyler/opt/anaconda3/lib/python3.8/site-packages (from nbformat>=4.2.0->ipywidgets>=7.0.0->gmaps) (4.6.3)\n",
      "Requirement already satisfied: jupyter-client in /Users/justine.skyler/opt/anaconda3/lib/python3.8/site-packages (from ipykernel>=4.5.1->ipywidgets>=7.0.0->gmaps) (6.1.6)\n",
      "Requirement already satisfied: tornado>=4.2 in /Users/justine.skyler/opt/anaconda3/lib/python3.8/site-packages (from ipykernel>=4.5.1->ipywidgets>=7.0.0->gmaps) (6.0.4)\n",
      "Requirement already satisfied: notebook>=4.4.1 in /Users/justine.skyler/opt/anaconda3/lib/python3.8/site-packages (from widgetsnbextension~=3.5.0->ipywidgets>=7.0.0->gmaps) (6.0.3)\n",
      "Requirement already satisfied: attrs>=17.4.0 in /Users/justine.skyler/opt/anaconda3/lib/python3.8/site-packages (from jsonschema!=2.5.0,>=2.4->nbformat>=4.2.0->ipywidgets>=7.0.0->gmaps) (19.3.0)\n",
      "Requirement already satisfied: pyrsistent>=0.14.0 in /Users/justine.skyler/opt/anaconda3/lib/python3.8/site-packages (from jsonschema!=2.5.0,>=2.4->nbformat>=4.2.0->ipywidgets>=7.0.0->gmaps) (0.16.0)\n",
      "Requirement already satisfied: python-dateutil>=2.1 in /Users/justine.skyler/opt/anaconda3/lib/python3.8/site-packages (from jupyter-client->ipykernel>=4.5.1->ipywidgets>=7.0.0->gmaps) (2.8.1)\n",
      "Requirement already satisfied: pyzmq>=13 in /Users/justine.skyler/opt/anaconda3/lib/python3.8/site-packages (from jupyter-client->ipykernel>=4.5.1->ipywidgets>=7.0.0->gmaps) (19.0.1)\n",
      "Requirement already satisfied: nbconvert in /Users/justine.skyler/opt/anaconda3/lib/python3.8/site-packages (from notebook>=4.4.1->widgetsnbextension~=3.5.0->ipywidgets>=7.0.0->gmaps) (5.6.1)\n",
      "Requirement already satisfied: prometheus-client in /Users/justine.skyler/opt/anaconda3/lib/python3.8/site-packages (from notebook>=4.4.1->widgetsnbextension~=3.5.0->ipywidgets>=7.0.0->gmaps) (0.8.0)\n",
      "Requirement already satisfied: jinja2 in /Users/justine.skyler/opt/anaconda3/lib/python3.8/site-packages (from notebook>=4.4.1->widgetsnbextension~=3.5.0->ipywidgets>=7.0.0->gmaps) (2.11.2)\n",
      "Requirement already satisfied: terminado>=0.8.1 in /Users/justine.skyler/opt/anaconda3/lib/python3.8/site-packages (from notebook>=4.4.1->widgetsnbextension~=3.5.0->ipywidgets>=7.0.0->gmaps) (0.8.3)\n",
      "Requirement already satisfied: Send2Trash in /Users/justine.skyler/opt/anaconda3/lib/python3.8/site-packages (from notebook>=4.4.1->widgetsnbextension~=3.5.0->ipywidgets>=7.0.0->gmaps) (1.5.0)\n",
      "Requirement already satisfied: mistune<2,>=0.8.1 in /Users/justine.skyler/opt/anaconda3/lib/python3.8/site-packages (from nbconvert->notebook>=4.4.1->widgetsnbextension~=3.5.0->ipywidgets>=7.0.0->gmaps) (0.8.4)\n",
      "Requirement already satisfied: pandocfilters>=1.4.1 in /Users/justine.skyler/opt/anaconda3/lib/python3.8/site-packages (from nbconvert->notebook>=4.4.1->widgetsnbextension~=3.5.0->ipywidgets>=7.0.0->gmaps) (1.4.2)\n",
      "Requirement already satisfied: entrypoints>=0.2.2 in /Users/justine.skyler/opt/anaconda3/lib/python3.8/site-packages (from nbconvert->notebook>=4.4.1->widgetsnbextension~=3.5.0->ipywidgets>=7.0.0->gmaps) (0.3)\n",
      "Requirement already satisfied: bleach in /Users/justine.skyler/opt/anaconda3/lib/python3.8/site-packages (from nbconvert->notebook>=4.4.1->widgetsnbextension~=3.5.0->ipywidgets>=7.0.0->gmaps) (3.1.5)\n",
      "Requirement already satisfied: defusedxml in /Users/justine.skyler/opt/anaconda3/lib/python3.8/site-packages (from nbconvert->notebook>=4.4.1->widgetsnbextension~=3.5.0->ipywidgets>=7.0.0->gmaps) (0.6.0)\n",
      "Requirement already satisfied: testpath in /Users/justine.skyler/opt/anaconda3/lib/python3.8/site-packages (from nbconvert->notebook>=4.4.1->widgetsnbextension~=3.5.0->ipywidgets>=7.0.0->gmaps) (0.4.4)\n",
      "Requirement already satisfied: MarkupSafe>=0.23 in /Users/justine.skyler/opt/anaconda3/lib/python3.8/site-packages (from jinja2->notebook>=4.4.1->widgetsnbextension~=3.5.0->ipywidgets>=7.0.0->gmaps) (1.1.1)\n",
      "Requirement already satisfied: webencodings in /Users/justine.skyler/opt/anaconda3/lib/python3.8/site-packages (from bleach->nbconvert->notebook>=4.4.1->widgetsnbextension~=3.5.0->ipywidgets>=7.0.0->gmaps) (0.5.1)\n",
      "Requirement already satisfied: packaging in /Users/justine.skyler/opt/anaconda3/lib/python3.8/site-packages (from bleach->nbconvert->notebook>=4.4.1->widgetsnbextension~=3.5.0->ipywidgets>=7.0.0->gmaps) (20.4)\n",
      "Requirement already satisfied: pyparsing>=2.0.2 in /Users/justine.skyler/opt/anaconda3/lib/python3.8/site-packages (from packaging->bleach->nbconvert->notebook>=4.4.1->widgetsnbextension~=3.5.0->ipywidgets>=7.0.0->gmaps) (2.4.7)\n",
      "Building wheels for collected packages: gmaps\n"
     ]
    },
    {
     "name": "stdout",
     "output_type": "stream",
     "text": [
      "  Building wheel for gmaps (setup.py) ... \u001b[?25ldone\n",
      "\u001b[?25h  Created wheel for gmaps: filename=gmaps-0.9.0-py2.py3-none-any.whl size=2076096 sha256=93952d06f4c8db1ab4992fc157daed44d5d2ae097eb885cfa15e56553cd334b1\n",
      "  Stored in directory: /Users/justine.skyler/Library/Caches/pip/wheels/30/bd/87/d0d731ee712c34a4d6bace8b1dbf8c8932e22a1625b4a55be4\n",
      "Successfully built gmaps\n",
      "Installing collected packages: geojson, gmaps\n",
      "Successfully installed geojson-2.5.0 gmaps-0.9.0\n",
      "Enabling notebook extension jupyter-gmaps/extension...\n",
      "      - Validating: \u001b[32mOK\u001b[0m\n"
     ]
    }
   ],
   "source": [
    "!jupyter nbextension enable --py --sys-prefix widgetsnbextension\n",
    "!pip install gmaps\n",
    "!jupyter nbextension enable --py --sys-prefix gmaps"
   ]
  },
  {
   "cell_type": "code",
   "execution_count": null,
   "metadata": {},
   "outputs": [],
   "source": [
    "# Dependencies and Setup\n",
    "import matplotlib.pyplot as plt\n",
    "import pandas as pd\n",
    "import numpy as np\n",
    "import requests\n",
    "import gmaps\n",
    "import os\n",
    "\n",
    "# Import API key\n",
    "from api_keys import g_key"
   ]
  },
  {
   "cell_type": "markdown",
   "metadata": {},
   "source": [
    "### Store Part I results into DataFrame\n",
    "* Load the csv exported in Part I to a DataFrame"
   ]
  },
  {
   "cell_type": "code",
   "execution_count": null,
   "metadata": {},
   "outputs": [],
   "source": [
    "\n"
   ]
  },
  {
   "cell_type": "markdown",
   "metadata": {},
   "source": [
    "### Humidity Heatmap\n",
    "* Configure gmaps.\n",
    "* Use the Lat and Lng as locations and Humidity as the weight.\n",
    "* Add Heatmap layer to map."
   ]
  },
  {
   "cell_type": "code",
   "execution_count": null,
   "metadata": {},
   "outputs": [],
   "source": []
  },
  {
   "cell_type": "code",
   "execution_count": null,
   "metadata": {},
   "outputs": [],
   "source": []
  },
  {
   "cell_type": "markdown",
   "metadata": {},
   "source": [
    "### Create new DataFrame fitting weather criteria\n",
    "* Narrow down the cities to fit weather conditions.\n",
    "* Drop any rows will null values."
   ]
  },
  {
   "cell_type": "code",
   "execution_count": null,
   "metadata": {},
   "outputs": [],
   "source": []
  },
  {
   "cell_type": "markdown",
   "metadata": {},
   "source": [
    "### Hotel Map\n",
    "* Store into variable named `hotel_df`.\n",
    "* Add a \"Hotel Name\" column to the DataFrame.\n",
    "* Set parameters to search for hotels with 5000 meters.\n",
    "* Hit the Google Places API for each city's coordinates.\n",
    "* Store the first Hotel result into the DataFrame.\n",
    "* Plot markers on top of the heatmap."
   ]
  },
  {
   "cell_type": "code",
   "execution_count": null,
   "metadata": {},
   "outputs": [],
   "source": []
  },
  {
   "cell_type": "code",
   "execution_count": null,
   "metadata": {},
   "outputs": [],
   "source": []
  },
  {
   "cell_type": "code",
   "execution_count": null,
   "metadata": {},
   "outputs": [],
   "source": [
    "# NOTE: Do not change any of the code in this cell\n",
    "\n",
    "# Using the template add the hotel marks to the heatmap\n",
    "info_box_template = \"\"\"\n",
    "<dl>\n",
    "<dt>Name</dt><dd>{Hotel Name}</dd>\n",
    "<dt>City</dt><dd>{City}</dd>\n",
    "<dt>Country</dt><dd>{Country}</dd>\n",
    "</dl>\n",
    "\"\"\"\n",
    "# Store the DataFrame Row\n",
    "# NOTE: be sure to update with your DataFrame name\n",
    "hotel_info = [info_box_template.format(**row) for index, row in hotel_df.iterrows()]\n",
    "locations = hotel_df[[\"Lat\", \"Lng\"]]"
   ]
  },
  {
   "cell_type": "code",
   "execution_count": null,
   "metadata": {},
   "outputs": [],
   "source": [
    "# Add marker layer ontop of heat map\n",
    "\n",
    "\n",
    "# Display figure\n"
   ]
  },
  {
   "cell_type": "code",
   "execution_count": null,
   "metadata": {},
   "outputs": [],
   "source": []
  }
 ],
 "metadata": {
  "kernelspec": {
   "display_name": "Python 3",
   "language": "python",
   "name": "python3"
  },
  "language_info": {
   "codemirror_mode": {
    "name": "ipython",
    "version": 3
   },
   "file_extension": ".py",
   "mimetype": "text/x-python",
   "name": "python",
   "nbconvert_exporter": "python",
   "pygments_lexer": "ipython3",
   "version": "3.8.3"
  },
  "latex_envs": {
   "LaTeX_envs_menu_present": true,
   "autoclose": false,
   "autocomplete": true,
   "bibliofile": "biblio.bib",
   "cite_by": "apalike",
   "current_citInitial": 1,
   "eqLabelWithNumbers": true,
   "eqNumInitial": 1,
   "hotkeys": {
    "equation": "Ctrl-E",
    "itemize": "Ctrl-I"
   },
   "labels_anchors": false,
   "latex_user_defs": false,
   "report_style_numbering": false,
   "user_envs_cfg": false
  }
 },
 "nbformat": 4,
 "nbformat_minor": 4
}
